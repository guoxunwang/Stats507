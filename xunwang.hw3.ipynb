{
 "cells": [
  {
   "cell_type": "markdown",
   "metadata": {},
   "source": [
    "## Stats507 Homework 3, Winter 2019\n",
    "### Xun Wang\n",
    "#### xunwang@umich.edu\n",
    "I did not discuss problem 2 with anyone else in the class.\n",
    "I discussed problem 1 with Xinye Jiang and Chen Xie.\n",
    "\n",
    "Problem 1 took me 2.5 hour.Problem 2 took me 3.5 hour."
   ]
  },
  {
   "cell_type": "markdown",
   "metadata": {},
   "source": [
    "### Problem 1: Counting Word Bigrams\n",
    "#### 1"
   ]
  },
  {
   "cell_type": "code",
   "execution_count": 38,
   "metadata": {},
   "outputs": [],
   "source": [
    "def count_bigrams_in_file(file):\n",
    "    try:\n",
    "        f=open(file)   \n",
    "    except FileNotFoundError:\n",
    "        print('No such file found in current directory!')\n",
    "        raise\n",
    "    except NameError:\n",
    "        print('The name of the file is not a string!')\n",
    "        raise\n",
    "    except:\n",
    "        raise\n",
    "    \n",
    "    s=[]\n",
    "    import string\n",
    "    for line in f:\n",
    "        ### lowercase\n",
    "        line_lower=line.lower()\n",
    "        ### deal with edge situations: do not remove ' or / or -, remove -- or --- or ----\n",
    "        line_lower=line_lower.replace('----',' ')\n",
    "        line_lower=line_lower.replace('---',' ')\n",
    "        line_lower=line_lower.replace('--',' ')\n",
    "        ### str.split funtion split according to any whitespace, and discard empty strings from the result.\n",
    "        ### newline \\n is included in whitspace\n",
    "        for wd in line_lower.split():\n",
    "            ### remove punctuation from words\n",
    "            s.append(wd.strip(string.punctuation))\n",
    "    ### remove empty strings\n",
    "    l=[]\n",
    "    for j in range(len(s)):\n",
    "        if not s[j]=='':\n",
    "            l.append(s[j])\n",
    "   \n",
    "    bigram=dict()\n",
    "    for i in range(len(l)-1):\n",
    "        (w1,w2)=(l[i],l[i+1])\n",
    "        if (w1,w2) not in bigram:\n",
    "            bigram[(w1,w2)]=1\n",
    "        else:\n",
    "            bigram[(w1,w2)]+=1\n",
    "    return bigram"
   ]
  },
  {
   "cell_type": "markdown",
   "metadata": {},
   "source": [
    "#### 2"
   ]
  },
  {
   "cell_type": "code",
   "execution_count": 39,
   "metadata": {},
   "outputs": [],
   "source": [
    "import pickle\n",
    "dict_save=count_bigrams_in_file('WandP.txt')\n",
    "pickle.dump(dict_save,open('mb.bigrams.pickle','wb'))"
   ]
  },
  {
   "cell_type": "markdown",
   "metadata": {},
   "source": [
    "#### 3"
   ]
  },
  {
   "cell_type": "code",
   "execution_count": 40,
   "metadata": {},
   "outputs": [],
   "source": [
    "def collocations(file):\n",
    "    try:\n",
    "        f=open(file)   \n",
    "    except FileNotFoundError:\n",
    "        print('No such file found in current directory!')\n",
    "        raise\n",
    "    except NameError:\n",
    "        print('The name of the file is not a string!')\n",
    "        raise\n",
    "    except:\n",
    "        raise\n",
    "    \n",
    "    s=[]\n",
    "    import string\n",
    "    for line in f:\n",
    "        ### lowercase\n",
    "        line_lower=line.lower()\n",
    "        ### deal with edge situations: do not remove ' or / or -, remove -- or --- or ----\n",
    "        line_lower=line_lower.replace('----',' ')\n",
    "        line_lower=line_lower.replace('---',' ')\n",
    "        line_lower=line_lower.replace('--',' ')\n",
    "        ### str.split funtion split according to any whitespace, and discard empty strings from the result.\n",
    "        ### newline \\n is included in whitspace\n",
    "        for wd in line_lower.split():\n",
    "            ### remove punctuation from words\n",
    "            s.append(wd.strip(string.punctuation))\n",
    "    ### remove empty strings\n",
    "    l=[]\n",
    "    for j in range(len(s)):\n",
    "        if not s[j]=='':\n",
    "            l.append(s[j])\n",
    "   \n",
    "    collo=dict()\n",
    "    collo[l[0]]={l[1]}\n",
    "    for i in range(1,len(l)-1):\n",
    "        if l[i] not in collo:\n",
    "            collo[l[i]]={l[i-1],l[i+1]}\n",
    "        else:\n",
    "            collo[l[i]].add(l[i-1])\n",
    "            collo[l[i]].add(l[i+1])\n",
    "    collo[l[len(l)-1]]={l[len(l)-2]}   \n",
    "    return collo"
   ]
  },
  {
   "cell_type": "markdown",
   "metadata": {},
   "source": [
    "#### 4"
   ]
  },
  {
   "cell_type": "code",
   "execution_count": 41,
   "metadata": {},
   "outputs": [],
   "source": [
    "import pickle\n",
    "coll_save=collocations('WandP.txt')\n",
    "pickle.dump(coll_save,open('mb.colloc.pickle','wb'))"
   ]
  },
  {
   "cell_type": "markdown",
   "metadata": {},
   "source": [
    "### Problem 2: More Fun with Vectors \n",
    "#### 1"
   ]
  },
  {
   "cell_type": "code",
   "execution_count": 42,
   "metadata": {},
   "outputs": [],
   "source": [
    "class Vector:\n",
    "    '''vector with a dimension (a non-negative integer) and a list or tuple of its entries'''\n",
    "    ## 2.1\n",
    "    def __init__(self,dim=0,entries=[]):\n",
    "        if not isinstance(dim,int):\n",
    "            raise TypeError('The dimension should be an integer!')\n",
    "        elif dim<0:\n",
    "            raise ValueError('The dimension should be non-negative!')\n",
    "        else:\n",
    "            if entries!=[]:\n",
    "                if len(entries)!=dim:\n",
    "                    raise ValueError('The dimension and the number of supplied entries disagree!')\n",
    "                else:\n",
    "                    self.dim=dim\n",
    "                    self.entries=entries\n",
    "            if entries==[]:\n",
    "                self.dim=dim\n",
    "                self.entries=[0]*self.dim\n",
    "    \n",
    "    \n",
    "    ## 2.4\n",
    "    def __eq__(self,other):\n",
    "        if self.dim!=other.dim:\n",
    "            raise ValueError('Two vectors are of different dimensions!')\n",
    "        else:\n",
    "            return self.entries==other.entries\n",
    "    def __lt__(self,other):\n",
    "        t1=tuple(self.entries)\n",
    "        t2=tuple(other.entries)\n",
    "        if self.dim!=other.dim:\n",
    "            raise ValueError('Two vectors are of different dimensions!')\n",
    "        else:\n",
    "            return t1<t2\n",
    "    def __gt__(self,other):\n",
    "        if self.dim!=other.dim:\n",
    "            raise ValueError('Two vectors are of different dimensions!')\n",
    "        else:\n",
    "            return other<self\n",
    "    def __le__(self,other):\n",
    "        return (self==other or self<other)\n",
    "    def __ge__(self,other):\n",
    "        return (self==other or self>other)  \n",
    "    def __ne__(self,other):\n",
    "        return (not self==other)\n",
    "    \n",
    "    ## 2.5\n",
    "    def dot(self,given):\n",
    "        if not isinstance(given,Vector):\n",
    "            raise TypeError('The argument is not a Vector class!')\n",
    "        elif given.dim!=self.dim:\n",
    "            raise ValueError('The dimensions of the two vectors do not agree!')\n",
    "        else:\n",
    "            s=0\n",
    "            for i in range(self.dim):\n",
    "                s+=self.entries[i]*given.entries[i]\n",
    "            return s\n",
    "    \n",
    "    \n",
    "    ## 2.6\n",
    "    def __mul__(self,other):\n",
    "        if isinstance(other,int) or isinstance(other,float):\n",
    "            mr=Vector(self.dim)\n",
    "            for i in range(self.dim):\n",
    "                mr.entries[i]=self.entries[i]*other\n",
    "            return mr\n",
    "        elif isinstance(other,Vector):\n",
    "            if self.dim!=other.dim:\n",
    "                raise ValueError('The dimensions of the two vectors do not agree!')\n",
    "            else:\n",
    "                mr=Vector(self.dim)\n",
    "                for i in range(self.dim):\n",
    "                    mr.entries[i]=self.entries[i]*other.entries[i]\n",
    "                return mr\n",
    "    def __rmul__(self,other):\n",
    "        return self.__mul__(other)\n",
    "    \n",
    "    \n",
    "    ## 2.7\n",
    "    def norm(self,p):\n",
    "        if p<0:\n",
    "            raise ValueError('p should be a positive number')\n",
    "        elif p==0:\n",
    "            vp=0\n",
    "            for i in range(self.dim):\n",
    "                if self.entries[i]!=0:\n",
    "                    vp+=1\n",
    "            return vp\n",
    "        elif p==float('+inf'):\n",
    "            abs_v=[0]*self.dim\n",
    "            for i in range(self.dim):\n",
    "                abs_v[i]=abs(self.entries[i])\n",
    "            return max(abs_v)\n",
    "        else:\n",
    "            vpp=0\n",
    "            for i in range(self.dim):\n",
    "                vpp+=(abs(self.entries[i]))**p\n",
    "            return vpp**(1/p)              "
   ]
  },
  {
   "cell_type": "markdown",
   "metadata": {},
   "source": [
    "#### 2"
   ]
  },
  {
   "cell_type": "markdown",
   "metadata": {},
   "source": [
    "Yes, I chose to make entries a list. Because vectors' coordinates may vary from situation to situation. While tuples are immutable and could not change its entries. And in the case that we do not supply entries at first, we could modify list to update the vector's coordinates. We could not do this if we use tuples. So I chose list as entries."
   ]
  },
  {
   "cell_type": "markdown",
   "metadata": {},
   "source": [
    "#### 3"
   ]
  },
  {
   "cell_type": "markdown",
   "metadata": {},
   "source": [
    "I design the dimension and entries as instance attributes. Class attributes are the attributes shared by all objects in this class, while instance attributes are attributes of specific objects. Although all vectors have dimension and entries, they could have different dimensions and entries. These two atrributes should be supplied by users and they could vary from vector to vector."
   ]
  }
 ],
 "metadata": {
  "kernelspec": {
   "display_name": "Python 3",
   "language": "python",
   "name": "python3"
  },
  "language_info": {
   "codemirror_mode": {
    "name": "ipython",
    "version": 3
   },
   "file_extension": ".py",
   "mimetype": "text/x-python",
   "name": "python",
   "nbconvert_exporter": "python",
   "pygments_lexer": "ipython3",
   "version": "3.7.2"
  }
 },
 "nbformat": 4,
 "nbformat_minor": 2
}
