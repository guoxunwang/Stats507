{
 "cells": [
  {
   "cell_type": "markdown",
   "metadata": {},
   "source": [
    "## Stats507 Homework 1, Winter 2019\n",
    "### Xun Wang\n",
    "#### xunwang@umich.edu\n",
    "I did not discuss problem 1 or 3 or 4 with anyone else in the class.\n",
    "I discussed problem 2 with Xinye Jiang and Chen Xie.\n",
    "\n",
    "Problem 1 took me 20 minutes.Problem 2 took me 30 minutes.\n",
    "Problem 3 took me 20 minutes.Problem 4 took me 5 minutes."
   ]
  },
  {
   "cell_type": "markdown",
   "metadata": {},
   "source": [
    "### Problem 1: Warm up: Deﬁning Simple Functions\n",
    "#### 1"
   ]
  },
  {
   "cell_type": "code",
   "execution_count": 6,
   "metadata": {},
   "outputs": [
    {
     "name": "stdout",
     "output_type": "stream",
     "text": [
      "Hello, world!\n"
     ]
    }
   ],
   "source": [
    "def say_hi():\n",
    "    print('Hello, world!')\n",
    "say_hi()"
   ]
  },
  {
   "cell_type": "markdown",
   "metadata": {},
   "source": [
    "#### 2"
   ]
  },
  {
   "cell_type": "code",
   "execution_count": 9,
   "metadata": {},
   "outputs": [
    {
     "name": "stdout",
     "output_type": "stream",
     "text": [
      "goatbirdgoat\n",
      "goat_goat\n"
     ]
    }
   ],
   "source": [
    "def goat_pad(string):\n",
    "    print('goat'+string+'goat')\n",
    "goat_pad('bird')\n",
    "goat_pad('_')"
   ]
  },
  {
   "cell_type": "markdown",
   "metadata": {},
   "source": [
    "#### 3"
   ]
  },
  {
   "cell_type": "code",
   "execution_count": 20,
   "metadata": {},
   "outputs": [
    {
     "name": "stdout",
     "output_type": "stream",
     "text": [
      "bird\n",
      "bird\n",
      "bird\n"
     ]
    }
   ],
   "source": [
    "def print_n(s,n):\n",
    "    i=1\n",
    "    while i<=n:\n",
    "        print(s)\n",
    "        i=i+1\n",
    "print_n('bird',3)"
   ]
  },
  {
   "cell_type": "markdown",
   "metadata": {},
   "source": [
    "### Problem 2: Euclid’s algorithm\n",
    "#### 1"
   ]
  },
  {
   "cell_type": "code",
   "execution_count": 2,
   "metadata": {},
   "outputs": [],
   "source": [
    "def gcd(m,n):\n",
    "    if m>=n:\n",
    "        a=m\n",
    "        b=n\n",
    "    else:\n",
    "        a=n\n",
    "        b=m\n",
    "    while b!=0:\n",
    "        t=b\n",
    "        b=a%b\n",
    "        a=t\n",
    "    return a"
   ]
  },
  {
   "cell_type": "markdown",
   "metadata": {},
   "source": [
    "#### 2(a)"
   ]
  },
  {
   "cell_type": "code",
   "execution_count": 23,
   "metadata": {},
   "outputs": [
    {
     "data": {
      "text/plain": [
       "1"
      ]
     },
     "execution_count": 23,
     "metadata": {},
     "output_type": "execute_result"
    }
   ],
   "source": [
    "gcd(2018,2019)"
   ]
  },
  {
   "cell_type": "markdown",
   "metadata": {},
   "source": [
    "#### 2(b)"
   ]
  },
  {
   "cell_type": "code",
   "execution_count": 24,
   "metadata": {},
   "outputs": [
    {
     "data": {
      "text/plain": [
       "300"
      ]
     },
     "execution_count": 24,
     "metadata": {},
     "output_type": "execute_result"
    }
   ],
   "source": [
    "gcd(1200,300)"
   ]
  },
  {
   "cell_type": "markdown",
   "metadata": {},
   "source": [
    "#### 2（c)"
   ]
  },
  {
   "cell_type": "code",
   "execution_count": 25,
   "metadata": {},
   "outputs": [
    {
     "data": {
      "text/plain": [
       "60"
      ]
     },
     "execution_count": 25,
     "metadata": {},
     "output_type": "execute_result"
    }
   ],
   "source": [
    "gcd(5040,60)"
   ]
  },
  {
   "cell_type": "markdown",
   "metadata": {},
   "source": [
    "#### 3\n",
    "If one or both of its arguments are negative, this function first compares the two arguments, making the bigger one as dividend and the smaller one, which must be negative, as divisor. After the first time's computation, the function gets a remainder, whose absolute value is smaller than the absolute value of divisor. And because the divisor is negative, the remainder should also be negative. Then the function performs an iteration on getting new remainder of the last divisor and remainder, until the remainder equals 0. In this process, because the divisors and remainders keep negative, the result also should be negative.\n",
    "\n",
    "This behavior does make sense, because the mechanism behind the code does not change. The absolute value of remainder is getting smaller and finally we get a equation without remainder. And I think the result does not change except the sign.\n",
    "\n",
    "$gcd(a,b)=gcd(a,a-b)=gcd(b,r_{0})=gcd(r_{0},r_{1})=…=gcd(r_{N−2},r_{N−1})=r_{N−1}$"
   ]
  },
  {
   "cell_type": "code",
   "execution_count": 104,
   "metadata": {},
   "outputs": [
    {
     "data": {
      "text/plain": [
       "-1"
      ]
     },
     "execution_count": 104,
     "metadata": {},
     "output_type": "execute_result"
    }
   ],
   "source": [
    "gcd(-2018,-2019)"
   ]
  },
  {
   "cell_type": "code",
   "execution_count": 106,
   "metadata": {},
   "outputs": [
    {
     "data": {
      "text/plain": [
       "-60"
      ]
     },
     "execution_count": 106,
     "metadata": {},
     "output_type": "execute_result"
    }
   ],
   "source": [
    "gcd(-5040,60)"
   ]
  },
  {
   "cell_type": "code",
   "execution_count": 3,
   "metadata": {},
   "outputs": [
    {
     "data": {
      "text/plain": [
       "-300"
      ]
     },
     "execution_count": 3,
     "metadata": {},
     "output_type": "execute_result"
    }
   ],
   "source": [
    "gcd(1200,-300)"
   ]
  },
  {
   "cell_type": "markdown",
   "metadata": {},
   "source": [
    "### Problem 3: Approximating Euler’s number e\n",
    "#### 1"
   ]
  },
  {
   "cell_type": "code",
   "execution_count": 113,
   "metadata": {
    "scrolled": true
   },
   "outputs": [],
   "source": [
    "def euler_limit(n):\n",
    "    return (1+1/n)**n"
   ]
  },
  {
   "cell_type": "markdown",
   "metadata": {},
   "source": [
    "#### 2"
   ]
  },
  {
   "cell_type": "code",
   "execution_count": 63,
   "metadata": {},
   "outputs": [
    {
     "data": {
      "text/plain": [
       "2.6666666666666665"
      ]
     },
     "execution_count": 63,
     "metadata": {},
     "output_type": "execute_result"
    }
   ],
   "source": [
    "def euler_infinite_sum(n):\n",
    "    esum=0\n",
    "    i=1\n",
    "    import math\n",
    "    while i>0 and i<=n:\n",
    "        esum=esum+1/math.factorial(i-1)\n",
    "        i=i+1\n",
    "    return esum\n",
    "euler_infinite_sum(4)"
   ]
  },
  {
   "cell_type": "markdown",
   "metadata": {},
   "source": [
    "#### 3"
   ]
  },
  {
   "cell_type": "code",
   "execution_count": 61,
   "metadata": {},
   "outputs": [],
   "source": [
    "def euler_approx(epsilon):\n",
    "    import math\n",
    "    esum=0\n",
    "    i=0\n",
    "    while abs(esum-math.exp(1))>=epsilon:\n",
    "        esum=esum+1/math.factorial(i)\n",
    "        i=i+1\n",
    "    return esum"
   ]
  },
  {
   "cell_type": "markdown",
   "metadata": {},
   "source": [
    "#### 4"
   ]
  },
  {
   "cell_type": "code",
   "execution_count": 62,
   "metadata": {},
   "outputs": [
    {
     "name": "stdout",
     "output_type": "stream",
     "text": [
      "k= 1 sum= 1.0\n",
      "k= 2 sum= 2.0\n",
      "k= 3 sum= 2.5\n",
      "k= 4 sum= 2.6666666666666665\n"
     ]
    }
   ],
   "source": [
    "def print_euler_sum_table(n):\n",
    "    esum=0\n",
    "    i=1\n",
    "    import math\n",
    "    while i>0 and i<=n:\n",
    "        esum=esum+1/math.factorial(i-1)\n",
    "        print('k=',i,'sum=',esum)\n",
    "        i=i+1\n",
    "print_euler_sum_table(4)      "
   ]
  },
  {
   "cell_type": "markdown",
   "metadata": {},
   "source": [
    "#### 5"
   ]
  },
  {
   "cell_type": "code",
   "execution_count": 120,
   "metadata": {},
   "outputs": [
    {
     "data": {
      "text/plain": [
       "2.7169239322355936"
      ]
     },
     "execution_count": 120,
     "metadata": {},
     "output_type": "execute_result"
    }
   ],
   "source": [
    "euler_limit(1000)"
   ]
  },
  {
   "cell_type": "code",
   "execution_count": 119,
   "metadata": {},
   "outputs": [
    {
     "data": {
      "text/plain": [
       "2.7182818284590455"
      ]
     },
     "execution_count": 119,
     "metadata": {},
     "output_type": "execute_result"
    }
   ],
   "source": [
    "euler_infinite_sum(1000)"
   ]
  },
  {
   "cell_type": "markdown",
   "metadata": {},
   "source": [
    "I think the equation (1) is better. From the calculation above, we could see that when $n=1000$, the sum equation is closer to the true value of Euler's number. That means that method (1) gets to true value of $e$ more quickly than method (2). For equation (2), n need to be big enough to get a good approximation."
   ]
  },
  {
   "cell_type": "markdown",
   "metadata": {},
   "source": [
    "### Problem 4: Testing Properties of an Integer\n",
    "#### 1"
   ]
  },
  {
   "cell_type": "code",
   "execution_count": 69,
   "metadata": {},
   "outputs": [
    {
     "data": {
      "text/plain": [
       "False"
      ]
     },
     "execution_count": 69,
     "metadata": {},
     "output_type": "execute_result"
    }
   ],
   "source": [
    "def is_power_of_2(n):\n",
    "    while n%2==0:\n",
    "        n=n/2\n",
    "    if n==1:\n",
    "        return True\n",
    "    else:\n",
    "        return False\n",
    "is_power_of_2(15)"
   ]
  },
  {
   "cell_type": "markdown",
   "metadata": {},
   "source": [
    "#### 2"
   ]
  },
  {
   "cell_type": "code",
   "execution_count": 22,
   "metadata": {},
   "outputs": [
    {
     "data": {
      "text/plain": [
       "True"
      ]
     },
     "execution_count": 22,
     "metadata": {},
     "output_type": "execute_result"
    }
   ],
   "source": [
    "def is_power(b,n):\n",
    "    while n%b==0:\n",
    "        n=n/b\n",
    "    if n==1:\n",
    "        return True\n",
    "    else:\n",
    "        return False\n",
    "is_power(3,81)"
   ]
  }
 ],
 "metadata": {
  "kernelspec": {
   "display_name": "Python 3",
   "language": "python",
   "name": "python3"
  },
  "language_info": {
   "codemirror_mode": {
    "name": "ipython",
    "version": 3
   },
   "file_extension": ".py",
   "mimetype": "text/x-python",
   "name": "python",
   "nbconvert_exporter": "python",
   "pygments_lexer": "ipython3",
   "version": "3.7.2"
  }
 },
 "nbformat": 4,
 "nbformat_minor": 2
}
