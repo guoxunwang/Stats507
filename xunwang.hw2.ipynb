{
 "cells": [
  {
   "cell_type": "markdown",
   "metadata": {},
   "source": [
    "## Stats507 Homework 2, Winter 2019\n",
    "### Xun Wang\n",
    "#### xunwang@umich.edu\n",
    "I did not discuss problem 1 or 2 or 3 or 4 or 5 with anyone else in the class.\n",
    "I discussed problem 6 with Xinye Jiang and Chen Xie.\n",
    "\n",
    "Problem 1 took me 1 hour.Problem 2 took me 1 hour.\n",
    "Problem 3 took me 30 minutes.Problem 4 took me 1 hour and 25 minutes.\n",
    "Problem 5 took me 15 minutes.Problem 6 took me 30 minutes."
   ]
  },
  {
   "cell_type": "markdown",
   "metadata": {},
   "source": [
    "### Problem 1: Fun with Strings\n",
    "#### 1"
   ]
  },
  {
   "cell_type": "code",
   "execution_count": 14,
   "metadata": {},
   "outputs": [],
   "source": [
    "def is_palindrome(test_string):\n",
    "    lower_string=test_string.lower()\n",
    "    lower_list=list(lower_string)\n",
    "    ## delete space in list\n",
    "    test_list=[]\n",
    "    for x in lower_list:\n",
    "        if x!=' ':\n",
    "            test_list.append(x)\n",
    "    ## create reverse list\n",
    "    list_len=len(test_list)\n",
    "    reverse_list=[0]*list_len\n",
    "    for i in range(list_len):\n",
    "        reverse_list[list_len-1-i]=test_list[i]\n",
    "    ## test if reverse list equals original list\n",
    "    if reverse_list==test_list:\n",
    "        return True\n",
    "    else:\n",
    "        return False"
   ]
  },
  {
   "cell_type": "markdown",
   "metadata": {},
   "source": [
    "#### 2"
   ]
  },
  {
   "cell_type": "code",
   "execution_count": 15,
   "metadata": {},
   "outputs": [],
   "source": [
    "def is_abecedarian(test_string):\n",
    "    ## see uppercase and lowercase as identical\n",
    "    lower_string=test_string.lower()\n",
    "    lower_list=list(lower_string)\n",
    "    ## delete space in list\n",
    "    test_list=[]\n",
    "    for x in lower_list:\n",
    "        if x!=' ':\n",
    "            test_list.append(x)\n",
    "    ## for loop\n",
    "    bool_list=[0]*(len(test_list)-1)\n",
    "    for i in range(len(test_list)-1):\n",
    "        if test_list[i]<=test_list[i+1]:\n",
    "            bool_list[i]=True\n",
    "        else:\n",
    "            bool_list[i]=False\n",
    "    if False in bool_list:\n",
    "        return False\n",
    "    else:\n",
    "        return True"
   ]
  },
  {
   "cell_type": "markdown",
   "metadata": {},
   "source": [
    "#### 3"
   ]
  },
  {
   "cell_type": "code",
   "execution_count": 16,
   "metadata": {},
   "outputs": [],
   "source": [
    "def remove_vowels(test_string):\n",
    "    vowels=['a','e','i','o','u']\n",
    "    return_string=''\n",
    "    for x in test_string:\n",
    "        if x not in vowels:\n",
    "            return_string+=x\n",
    "    return return_string"
   ]
  },
  {
   "cell_type": "markdown",
   "metadata": {},
   "source": [
    "### Problem 2: Fun with Lists\n",
    "#### 1"
   ]
  },
  {
   "cell_type": "code",
   "execution_count": 17,
   "metadata": {},
   "outputs": [],
   "source": [
    "def list_reverse(test_list): \n",
    "    if type(test_list)!=list:\n",
    "        raise TypeError('The input argument is not a list!')\n",
    "    else:\n",
    "        list_len=len(test_list)\n",
    "        reverse_list=[0]*list_len\n",
    "        for i in range(list_len):\n",
    "            reverse_list[list_len-1-i]=test_list[i]\n",
    "        return reverse_list"
   ]
  },
  {
   "cell_type": "markdown",
   "metadata": {},
   "source": [
    "#### 2"
   ]
  },
  {
   "cell_type": "code",
   "execution_count": 18,
   "metadata": {},
   "outputs": [],
   "source": [
    "def is_sorted(seq):\n",
    "    bool_list=[0]*(len(seq)-1)\n",
    "    for i in range(len(seq)-1):\n",
    "        if seq[i]<=seq[i+1]:\n",
    "            bool_list[i]=True\n",
    "        else:\n",
    "            bool_list[i]=False\n",
    "    if False in bool_list:\n",
    "        return False\n",
    "    else:\n",
    "        return True"
   ]
  },
  {
   "cell_type": "markdown",
   "metadata": {},
   "source": [
    "#### 3"
   ]
  },
  {
   "cell_type": "code",
   "execution_count": 19,
   "metadata": {},
   "outputs": [],
   "source": [
    "def binary_search(t,elmt):\n",
    "    if len(t)==0:\n",
    "        return False\n",
    "    if len(t)==1:\n",
    "        if t[0]==elmt:\n",
    "            return True\n",
    "        else:\n",
    "            return False\n",
    "    if len(t)==2:\n",
    "        if t[0]==elmt or t[1]==elmt:\n",
    "            return True\n",
    "        else:\n",
    "            return False\n",
    "    else:\n",
    "        if len(t)%2==1:\n",
    "            middle=int((len(t)-1)/2)\n",
    "        else:\n",
    "            middle=int(len(t)/2)\n",
    "        ## compare middle value with elmt\n",
    "        if t[middle]==elmt:\n",
    "            return True\n",
    "        elif t[middle]<elmt:\n",
    "            return binary_search(t[middle+1:],elmt)\n",
    "        else:\n",
    "            return binary_search(t[:middle],elmt)"
   ]
  },
  {
   "cell_type": "markdown",
   "metadata": {},
   "source": [
    "### Problem 3: More Fun with Strings\n",
    "#### 1"
   ]
  },
  {
   "cell_type": "code",
   "execution_count": 20,
   "metadata": {},
   "outputs": [],
   "source": [
    "def char_hist(test_string):\n",
    "    lower_string=test_string.lower()\n",
    "    char_histm=dict()\n",
    "    for x in lower_string:\n",
    "        if x not in char_histm:\n",
    "            char_histm[x]=1\n",
    "        else:\n",
    "            char_histm[x]+=1\n",
    "    return char_histm"
   ]
  },
  {
   "cell_type": "markdown",
   "metadata": {},
   "source": [
    "#### 2"
   ]
  },
  {
   "cell_type": "code",
   "execution_count": 21,
   "metadata": {},
   "outputs": [],
   "source": [
    "def bigram_hist(test_string):\n",
    "    lower_string=test_string.lower()\n",
    "    bigram_histo=dict()\n",
    "    for i in range(len(lower_string)-1):\n",
    "        (ch1,ch2)=(lower_string[i],lower_string[i+1])\n",
    "        if (ch1,ch2) not in bigram_histo:\n",
    "            bigram_histo[(ch1,ch2)]=1\n",
    "        else:\n",
    "            bigram_histo[(ch1,ch2)]+=1\n",
    "    return bigram_histo"
   ]
  },
  {
   "cell_type": "markdown",
   "metadata": {},
   "source": [
    "### Problem 4: Tuples as Vectors\n",
    "#### 1"
   ]
  },
  {
   "cell_type": "code",
   "execution_count": 22,
   "metadata": {},
   "outputs": [],
   "source": [
    "def vec_scalar_mult(t,s):\n",
    "    if type(s) not in [int,float] or type(t)!=tuple:\n",
    "        raise TypeError('The type of input argument is not appropriate!')\n",
    "    else:\n",
    "        multi=[0]*len(t)\n",
    "        for i in range(len(t)):\n",
    "            if type(t[i]) not in [int,float]:\n",
    "                raise TypeError('The element of tuple is not int or float!')\n",
    "            else:\n",
    "                multi[i]=t[i]*s\n",
    "        return tuple(multi)     "
   ]
  },
  {
   "cell_type": "markdown",
   "metadata": {},
   "source": [
    "#### 2"
   ]
  },
  {
   "cell_type": "code",
   "execution_count": 23,
   "metadata": {},
   "outputs": [],
   "source": [
    "def vec_inner_product(v1,v2):\n",
    "    if type(v1)!=tuple or type(v2)!=tuple:\n",
    "        raise TypeError('The input argument is not tuple!')\n",
    "    elif len(v1)!=len(v2):\n",
    "        raise ValueError('The inputs do not agree in dimensions.')\n",
    "    else:\n",
    "        product=0\n",
    "        for i in range(len(v1)):\n",
    "            if type(v1[i]) not in [int,float] or type(v2[i]) not in [int,float]:\n",
    "                raise TypeError('The elements of input argument are not int or float!')\n",
    "            else:\n",
    "                product+=v1[i]*v2[i] \n",
    "        return product"
   ]
  },
  {
   "cell_type": "markdown",
   "metadata": {},
   "source": [
    "#### 3"
   ]
  },
  {
   "cell_type": "code",
   "execution_count": 24,
   "metadata": {},
   "outputs": [],
   "source": [
    "def check_valid_mx(mx):\n",
    "    if type(mx)!=tuple:\n",
    "        return False\n",
    "    else:\n",
    "        ncol=len(mx[0])\n",
    "        for row in mx:\n",
    "            if type(row)!=tuple or len(row)!=ncol:\n",
    "                return False\n",
    "            else:\n",
    "                for entry in row:\n",
    "                    if type(entry) not in [int,float]:\n",
    "                        return False\n",
    "        return True   "
   ]
  },
  {
   "cell_type": "markdown",
   "metadata": {},
   "source": [
    "#### 4"
   ]
  },
  {
   "cell_type": "code",
   "execution_count": 25,
   "metadata": {},
   "outputs": [],
   "source": [
    "### vec_inner_product will check the type of elements in t itself\n",
    "def mx_vec_mult(mx,t):\n",
    "    if check_valid_mx(mx)==False or type(t)!=tuple:\n",
    "        raise TypeError('The type of input argument is not appropriate!')\n",
    "    else:\n",
    "        multi=[0]*len(mx)\n",
    "        for i in range(len(mx)):\n",
    "            if len(mx[i])!=len(t):\n",
    "                raise ValueError('The inputs do not agree in dimensions.')\n",
    "            else:\n",
    "                multi[i]=vec_inner_product(mx[i],t)\n",
    "        return tuple(multi)"
   ]
  },
  {
   "cell_type": "markdown",
   "metadata": {},
   "source": [
    "### Problem 5: More Fun with Vectors\n",
    "#### 1"
   ]
  },
  {
   "cell_type": "code",
   "execution_count": 26,
   "metadata": {},
   "outputs": [],
   "source": [
    "def is_valid_sparse_vector(v):\n",
    "    if type(v)!=dict:\n",
    "        return False\n",
    "    else:\n",
    "        for key in v:\n",
    "            if type(key)!=int or key<=0:\n",
    "                return False\n",
    "            elif type(v[key]) not in [int,float]:\n",
    "                return False\n",
    "        return True"
   ]
  },
  {
   "cell_type": "markdown",
   "metadata": {},
   "source": [
    "#### 2"
   ]
  },
  {
   "cell_type": "code",
   "execution_count": 27,
   "metadata": {},
   "outputs": [],
   "source": [
    "def sparse_inner_product(v1,v2):\n",
    "    if is_valid_sparse_vector(v1)==False or is_valid_sparse_vector(v2)==False:\n",
    "        raise TypeError('The input argument is not valid!')\n",
    "    else:\n",
    "        product=0\n",
    "        for key1 in v1:\n",
    "            if key1 in v2:\n",
    "                product+=v1[key1]*v2[key1]\n",
    "            else:\n",
    "                product=product\n",
    "        return product"
   ]
  },
  {
   "cell_type": "markdown",
   "metadata": {},
   "source": [
    "### Problem 6: More Fun with Tuples\n",
    "#### 1"
   ]
  },
  {
   "cell_type": "code",
   "execution_count": 28,
   "metadata": {},
   "outputs": [],
   "source": [
    "def my_sum(*arg):\n",
    "    if arg==tuple():\n",
    "        return 0\n",
    "    else:\n",
    "        s=0\n",
    "        for x in arg:\n",
    "            s+=x\n",
    "        return s"
   ]
  },
  {
   "cell_type": "markdown",
   "metadata": {},
   "source": [
    "#### 2"
   ]
  },
  {
   "cell_type": "code",
   "execution_count": 29,
   "metadata": {},
   "outputs": [],
   "source": [
    "def reverse_tuple(t):\n",
    "    reverse_t=tuple()\n",
    "    for i in range(len(t)):\n",
    "        reverse_t=reverse_t+(t[len(t)-i-1],)\n",
    "    return reverse_t"
   ]
  },
  {
   "cell_type": "markdown",
   "metadata": {},
   "source": [
    "#### 3"
   ]
  },
  {
   "cell_type": "code",
   "execution_count": 30,
   "metadata": {},
   "outputs": [],
   "source": [
    "def rotate_tuple(t,n):\n",
    "    if type(t)!=tuple:\n",
    "        raise TypeError('The input of first argument is not a tuple!')\n",
    "    if type(n)!=int:\n",
    "        print('Warning: The input of second arg should be an integer.')\n",
    "    try:\n",
    "        n=int(n)\n",
    "        rotate_t=[0]*len(t)\n",
    "        for i in range(len(t)):\n",
    "            rotate_t[(i+n)%len(t)]=t[i]\n",
    "        return tuple(rotate_t)\n",
    "    except:\n",
    "        print('Error: The input of second arg is in invalid type and could not be casted to integer')\n",
    "        raise"
   ]
  }
 ],
 "metadata": {
  "kernelspec": {
   "display_name": "Python 3",
   "language": "python",
   "name": "python3"
  },
  "language_info": {
   "codemirror_mode": {
    "name": "ipython",
    "version": 3
   },
   "file_extension": ".py",
   "mimetype": "text/x-python",
   "name": "python",
   "nbconvert_exporter": "python",
   "pygments_lexer": "ipython3",
   "version": "3.7.2"
  }
 },
 "nbformat": 4,
 "nbformat_minor": 2
}
